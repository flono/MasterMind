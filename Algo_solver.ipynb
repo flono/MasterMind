{
 "cells": [
  {
   "cell_type": "code",
   "execution_count": 62,
   "metadata": {},
   "outputs": [],
   "source": [
    "import random\n",
    "import matplotlib.pyplot as plt\n",
    "from collections import Counter"
   ]
  },
  {
   "cell_type": "code",
   "execution_count": 63,
   "metadata": {},
   "outputs": [],
   "source": [
    "# compares proposal against solution and returns feedback as tuple\n",
    "# does not work properly for duplicate entries\n",
    "def getFeedback(proposal, solution):\n",
    "    black = 0\n",
    "    white = 0\n",
    "    for i in range(4):\n",
    "        if solution[i] == proposal[i]:\n",
    "            black += 1\n",
    "        elif proposal[i] in solution:\n",
    "            white += 1\n",
    "    return black, white"
   ]
  },
  {
   "cell_type": "code",
   "execution_count": 64,
   "metadata": {},
   "outputs": [],
   "source": [
    "# check if proposal makes sense, given the history\n",
    "def sensible(newProposal, hist):\n",
    "    for oldProposal, feedback in hist:\n",
    "        if feedback != getFeedback(newProposal, oldProposal):\n",
    "            return False\n",
    "    return True"
   ]
  },
  {
   "cell_type": "code",
   "execution_count": 65,
   "metadata": {},
   "outputs": [],
   "source": [
    "# game history as list of turns\n",
    "# one turn: (proposal, feedback)\n",
    "history = []"
   ]
  },
  {
   "cell_type": "code",
   "execution_count": 66,
   "metadata": {},
   "outputs": [
    {
     "data": {
      "text/plain": [
       "[4, 2, 1, 0]"
      ]
     },
     "execution_count": 66,
     "metadata": {},
     "output_type": "execute_result"
    }
   ],
   "source": [
    "solution = random.sample([0,1,2,3,4,5], 4)\n",
    "solution"
   ]
  },
  {
   "cell_type": "code",
   "execution_count": 70,
   "metadata": {},
   "outputs": [],
   "source": [
    "turnCounts_algo = []\n",
    "for i in range(1000):\n",
    "    foundSolution = False\n",
    "    counter = 0\n",
    "    history = []\n",
    "    while(not foundSolution):\n",
    "        proposal = random.sample([0,1,2,3,4,5,6], 4)\n",
    "        if sensible(proposal, history):\n",
    "            counter += 1\n",
    "            black, white = getFeedback(proposal, solution)\n",
    "            history.append([proposal, (black, white)])\n",
    "            if black == 4:\n",
    "                foundSolution = True\n",
    "    turnCounts_algo.append(counter)"
   ]
  },
  {
   "cell_type": "code",
   "execution_count": 71,
   "metadata": {},
   "outputs": [],
   "source": [
    "values = list(Counter(turnCounts_algo).values())\n",
    "keys = list(Counter(turnCounts_algo).keys())"
   ]
  },
  {
   "cell_type": "code",
   "execution_count": 72,
   "metadata": {},
   "outputs": [
    {
     "data": {
      "image/png": "[encoded data removed]",
      "text/plain": [
       "<Figure size 504x504 with 1 Axes>"
      ]
     },
     "metadata": {
      "needs_background": "light"
     },
     "output_type": "display_data"
    }
   ],
   "source": [
    "plt.rcParams['figure.figsize'] = 7, 7\n",
    "fig = plt.bar(keys, values)\n",
    "#plt.savefig(\"mastermind algorithm\")"
   ]
  },
  {
   "cell_type": "code",
   "execution_count": null,
   "metadata": {},
   "outputs": [],
   "source": [
    "turnCounts_random = []\n",
    "for i in range(1000):\n",
    "    foundSolution = False\n",
    "    counter = 0\n",
    "    while(not foundSolution):\n",
    "        proposal = random.sample([0,1,2,3,4,5,6], 4)\n",
    "        counter += 1\n",
    "        black, white = getFeedback(proposal, solution)\n",
    "        if black == 4:\n",
    "            foundSolution = True\n",
    "    turnCounts_random.append(counter)\n",
    "print(sum(turnCounts_random)/1000)    "
   ]
  },
  {
   "cell_type": "code",
   "execution_count": null,
   "metadata": {},
   "outputs": [],
   "source": [
    "plt.hist(turnCounts_random, bins = 20)\n",
    "#plt.savefig(\"mastermind random\")"
   ]
  },
  {
   "cell_type": "code",
   "execution_count": 42,
   "metadata": {},
   "outputs": [],
   "source": [
    "history = []"
   ]
  },
  {
   "cell_type": "code",
   "execution_count": null,
   "metadata": {},
   "outputs": [],
   "source": [
    "# 0 = blau\n",
    "# 1 = braun\n",
    "# 2 = gelb\n",
    "# 3 = grün\n",
    "# 4 = orange\n",
    "# 5 = rot\n",
    "# 6 = nichts"
   ]
  },
  {
   "cell_type": "code",
   "execution_count": 26,
   "metadata": {},
   "outputs": [],
   "source": [
    "proposal = [0,1,2,3]"
   ]
  },
  {
   "cell_type": "code",
   "execution_count": 51,
   "metadata": {},
   "outputs": [
    {
     "name": "stdout",
     "output_type": "stream",
     "text": [
      "[5, 6, 2, 0]\n"
     ]
    }
   ],
   "source": [
    "possibleSolution = False\n",
    "while(not possibleSolution):\n",
    "    proposal = random.sample([0,1,2,3,4,5,6], 4)\n",
    "    possibleSolution = sensible(proposal, history)\n",
    "print(proposal)"
   ]
  },
  {
   "cell_type": "code",
   "execution_count": 50,
   "metadata": {},
   "outputs": [],
   "source": [
    "history.append([proposal,(0,4)])"
   ]
  }
 ],
 "metadata": {
  "kernelspec": {
   "display_name": "Python 3",
   "language": "python",
   "name": "python3"
  },
  "language_info": {
   "codemirror_mode": {
    "name": "ipython",
    "version": 3
   },
   "file_extension": ".py",
   "mimetype": "text/x-python",
   "name": "python",
   "nbconvert_exporter": "python",
   "pygments_lexer": "ipython3",
   "version": "3.7.6"
  }
 },
 "nbformat": 4,
 "nbformat_minor": 4
}

{
 "cells": [
  {
   "cell_type": "code",
   "execution_count": 148,
   "metadata": {},
   "outputs": [],
   "source": [
    "import random\n",
    "import matplotlib.pyplot as plt\n",
    "from collections import Counter"
   ]
  },
  {
   "cell_type": "code",
   "execution_count": 149,
   "metadata": {},
   "outputs": [],
   "source": [
    "# compares proposal against solution and returns feedback as tuple\n",
    "# does not work properly for duplicate entries\n",
    "def getFeedback(proposal, solution):\n",
    "    black = 0\n",
    "    white = 0\n",
    "    for i in range(4):\n",
    "        if solution[i] == proposal[i]:\n",
    "            black += 1\n",
    "        if proposal[i] in solution:\n",
    "            white += 1\n",
    "    return black, white - black"
   ]
  },
  {
   "cell_type": "code",
   "execution_count": 150,
   "metadata": {},
   "outputs": [],
   "source": [
    "# checks if proposal complys with the previous ones, given the game history\n",
    "# a proposal cannot be the correct solution if:\n",
    "# - it has not as many positions in common as there are black pins for that turn\n",
    "# - it has fewer colors in common than white pins\n",
    "def sensible(newProposal, hist):\n",
    "    for oldProposal, feedback in hist:\n",
    "        samePos, sameColor = getFeedback(newProposal, oldProposal)\n",
    "        if samePos != feedback[0]:\n",
    "            return False\n",
    "        if sameColor != feedback[1]:\n",
    "            return False\n",
    "    return True"
   ]
  },
  {
   "cell_type": "code",
   "execution_count": 151,
   "metadata": {},
   "outputs": [],
   "source": [
    "# game history as list of turns\n",
    "# one turn: (proposal, feedback)\n",
    "history = []"
   ]
  },
  {
   "cell_type": "code",
   "execution_count": 152,
   "metadata": {},
   "outputs": [
    {
     "data": {
      "text/plain": [
       "[3, 4, 0, 2]"
      ]
     },
     "execution_count": 152,
     "metadata": {},
     "output_type": "execute_result"
    }
   ],
   "source": [
    "solution = random.sample([0,1,2,3,4,5], 4)\n",
    "solution"
   ]
  },
  {
   "cell_type": "code",
   "execution_count": 143,
   "metadata": {},
   "outputs": [],
   "source": [
    "turnCounts_algo = []\n",
    "for i in range(1000):\n",
    "    foundSolution = False\n",
    "    counter = 0\n",
    "    history = []\n",
    "    while(not foundSolution):\n",
    "        proposal = random.sample([0,1,2,3,4,5], 4)\n",
    "        if sensible(proposal, history):\n",
    "            counter += 1\n",
    "            black, white = getFeedback(proposal, solution)\n",
    "            history.append([proposal, (black, white)])\n",
    "            if black == 4:\n",
    "                foundSolution = True\n",
    "    turnCounts_algo.append(counter)\n",
    "#print(sum(turnCounts_algo)/1000)"
   ]
  },
  {
   "cell_type": "code",
   "execution_count": 173,
   "metadata": {},
   "outputs": [],
   "source": [
    "values = list(Counter(turnCounts_algo).values())\n",
    "keys = list(Counter(turnCounts_algo).keys())"
   ]
  },
  {
   "cell_type": "code",
   "execution_count": 185,
   "metadata": {},
   "outputs": [
    {
     "data": {
      "image/png": "[encoded data removed]",
      "text/plain": [
       "<Figure size 504x504 with 1 Axes>"
      ]
     },
     "metadata": {
      "needs_background": "light"
     },
     "output_type": "display_data"
    }
   ],
   "source": [
    "plt.rcParams['figure.figsize'] = 7, 7\n",
    "fig = plt.bar(keys, values)\n",
    "plt.savefig(\"mastermind algorithm\")"
   ]
  },
  {
   "cell_type": "code",
   "execution_count": 161,
   "metadata": {},
   "outputs": [
    {
     "name": "stdout",
     "output_type": "stream",
     "text": [
      "336.859\n"
     ]
    }
   ],
   "source": [
    "turnCounts_random = []\n",
    "for i in range(1000):\n",
    "    foundSolution = False\n",
    "    counter = 0\n",
    "    while(not foundSolution):\n",
    "        proposal = random.sample([0,1,2,3,4,5], 4)\n",
    "        counter += 1\n",
    "        black, white = getFeedback(proposal, solution)\n",
    "        if black == 4:\n",
    "            foundSolution = True\n",
    "    turnCounts_random.append(counter)\n",
    "print(sum(turnCounts_random)/1000)    "
   ]
  },
  {
   "cell_type": "code",
   "execution_count": 187,
   "metadata": {},
   "outputs": [
    {
     "data": {
      "image/png": "[encoded data removed]",
      "text/plain": [
       "<Figure size 504x504 with 1 Axes>"
      ]
     },
     "metadata": {
      "needs_background": "light"
     },
     "output_type": "display_data"
    }
   ],
   "source": [
    "plt.hist(turnCounts_random, bins = 20)\n",
    "plt.savefig(\"mastermind random\")"
   ]
  },
  {
   "cell_type": "code",
   "execution_count": null,
   "metadata": {},
   "outputs": [],
   "source": []
  }
 ],
 "metadata": {
  "kernelspec": {
   "display_name": "Python 3",
   "language": "python",
   "name": "python3"
  },
  "language_info": {
   "codemirror_mode": {
    "name": "ipython",
    "version": 3
   },
   "file_extension": ".py",
   "mimetype": "text/x-python",
   "name": "python",
   "nbconvert_exporter": "python",
   "pygments_lexer": "ipython3",
   "version": "3.7.6"
  }
 },
 "nbformat": 4,
 "nbformat_minor": 4
}
